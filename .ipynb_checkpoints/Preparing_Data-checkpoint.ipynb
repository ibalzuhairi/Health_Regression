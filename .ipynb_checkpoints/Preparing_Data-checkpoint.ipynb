{
 "cells": [
  {
   "cell_type": "code",
   "execution_count": 4,
   "metadata": {},
   "outputs": [],
   "source": [
    "import pandas as pd\n",
    "import sys \n",
    "from bs4 import BeautifulSoup as bs"
   ]
  },
  {
   "cell_type": "code",
   "execution_count": 16,
   "metadata": {},
   "outputs": [
    {
     "data": {
      "text/plain": [
       "<bound method DataFrame.info of                        startdate                    enddate value\n",
       "0      2018-06-02 18:59:25 +0300  2018-06-02 19:06:52 +0300    86\n",
       "1      2018-06-02 19:37:34 +0300  2018-06-02 19:44:40 +0300    66\n",
       "2      2018-06-02 21:01:04 +0300  2018-06-02 21:07:09 +0300     8\n",
       "3      2018-06-02 21:40:05 +0300  2018-06-02 21:47:47 +0300     9\n",
       "4      2018-06-02 21:55:05 +0300  2018-06-02 22:05:00 +0300   194\n",
       "...                          ...                        ...   ...\n",
       "31111  2021-09-19 17:24:13 +0300  2021-09-19 17:24:16 +0300    12\n",
       "31112  2021-09-19 17:49:35 +0300  2021-09-19 17:50:39 +0300    24\n",
       "31113  2021-09-19 18:19:58 +0300  2021-09-19 18:21:28 +0300    91\n",
       "31114  2021-09-19 18:45:40 +0300  2021-09-19 18:48:14 +0300   121\n",
       "31115  2021-09-20 02:05:21 +0300  2021-09-20 02:13:43 +0300   132\n",
       "\n",
       "[31116 rows x 3 columns]>"
      ]
     },
     "execution_count": 16,
     "metadata": {},
     "output_type": "execute_result"
    }
   ],
   "source": [
    "\n",
    "content = []\n",
    "# Read the XML file\n",
    "with open(\"D:\\\\export.xml\", \"r\") as file:\n",
    "    # Read each line in the file, readlines() returns a list of lines\n",
    "    content = file.readlines()\n",
    "    # Combine the lines in the list into a string\n",
    "    content = \"\".join(content)\n",
    "    bs_content = bs(content, \"lxml\")\n",
    "\n",
    "data =[]\n",
    "for rec in bs_content.find_all(attrs={\"type\" : \"HKQuantityTypeIdentifierStepCount\"}):\n",
    "    r = [rec['startdate'],rec['enddate'],rec['value']]\n",
    "    data.append(r)\n",
    "\n",
    "    \n",
    "cols =['startdate','enddate','value']\n",
    "\n",
    "df = pd.DataFrame(columns=cols,data = data )\n"
   ]
  },
  {
   "cell_type": "code",
   "execution_count": 88,
   "metadata": {},
   "outputs": [
    {
     "name": "stdout",
     "output_type": "stream",
     "text": [
      "There are  3633 records that need interpolation\n",
      "There are  190  records that ended on next day \n",
      "0.0  maximum days gap in data\n"
     ]
    }
   ],
   "source": [
    "#parse start time and end time\n",
    "df['startdate'] = pd.to_datetime(df['startdate'])\n",
    "df['enddate'] = pd.to_datetime(df['enddate'])\n",
    "df['value'] =pd.to_numeric(df['value'])\n",
    "#calculate the interval of each record\n",
    "df['duration'] = (df['enddate']-df['startdate']).astype('timedelta64[s]')\n",
    "\n",
    "#extract date only for grouping, start hour and end hour for interpolation \n",
    "df['date'] = df['startdate'].dt.date\n",
    "df['start_hour'] = df['startdate'].dt.hour\n",
    "df['end_hour'] = df['enddate'].dt.hour\n",
    "\n",
    "#calculate days between records to check for gaps\n",
    "df.sort_values('startdate',inplace=True)\n",
    "df['days_gap'] = (df['startdate'].diff()).astype('timedelta64[D]')\n",
    "df['days_gap'] = df['days_gap'].fillna(0)\n",
    "\n",
    "\n",
    "\n",
    "\n",
    "\n",
    "#check need for interpolation\n",
    "print(\"There are \",df[df['end_hour']!=df['start_hour']].shape[0], 'records that need interpolation')\n",
    "print(\"There are \",df[(df['end_hour']==0) & (df['start_hour']==23)].shape[0],' records that ended on next day ')\n",
    "print(max(df['days_gap']),\" maximum days gap in data\") \n",
    "\n"
   ]
  },
  {
   "cell_type": "code",
   "execution_count": 82,
   "metadata": {},
   "outputs": [
    {
     "data": {
      "text/html": [
       "<div>\n",
       "<style scoped>\n",
       "    .dataframe tbody tr th:only-of-type {\n",
       "        vertical-align: middle;\n",
       "    }\n",
       "\n",
       "    .dataframe tbody tr th {\n",
       "        vertical-align: top;\n",
       "    }\n",
       "\n",
       "    .dataframe thead th {\n",
       "        text-align: right;\n",
       "    }\n",
       "</style>\n",
       "<table border=\"1\" class=\"dataframe\">\n",
       "  <thead>\n",
       "    <tr style=\"text-align: right;\">\n",
       "      <th></th>\n",
       "      <th>startdate</th>\n",
       "      <th>enddate</th>\n",
       "      <th>value</th>\n",
       "      <th>duration</th>\n",
       "      <th>start_hour</th>\n",
       "      <th>end_hour</th>\n",
       "      <th>days_gap</th>\n",
       "    </tr>\n",
       "    <tr>\n",
       "      <th>date</th>\n",
       "      <th></th>\n",
       "      <th></th>\n",
       "      <th></th>\n",
       "      <th></th>\n",
       "      <th></th>\n",
       "      <th></th>\n",
       "      <th></th>\n",
       "    </tr>\n",
       "  </thead>\n",
       "  <tbody>\n",
       "    <tr>\n",
       "      <th>2018-06-02</th>\n",
       "      <td>13</td>\n",
       "      <td>13</td>\n",
       "      <td>13</td>\n",
       "      <td>13</td>\n",
       "      <td>13</td>\n",
       "      <td>13</td>\n",
       "      <td>13</td>\n",
       "    </tr>\n",
       "    <tr>\n",
       "      <th>2018-06-03</th>\n",
       "      <td>32</td>\n",
       "      <td>32</td>\n",
       "      <td>32</td>\n",
       "      <td>32</td>\n",
       "      <td>32</td>\n",
       "      <td>32</td>\n",
       "      <td>32</td>\n",
       "    </tr>\n",
       "    <tr>\n",
       "      <th>2018-06-04</th>\n",
       "      <td>38</td>\n",
       "      <td>38</td>\n",
       "      <td>38</td>\n",
       "      <td>38</td>\n",
       "      <td>38</td>\n",
       "      <td>38</td>\n",
       "      <td>38</td>\n",
       "    </tr>\n",
       "    <tr>\n",
       "      <th>2018-06-05</th>\n",
       "      <td>32</td>\n",
       "      <td>32</td>\n",
       "      <td>32</td>\n",
       "      <td>32</td>\n",
       "      <td>32</td>\n",
       "      <td>32</td>\n",
       "      <td>32</td>\n",
       "    </tr>\n",
       "    <tr>\n",
       "      <th>2018-06-06</th>\n",
       "      <td>36</td>\n",
       "      <td>36</td>\n",
       "      <td>36</td>\n",
       "      <td>36</td>\n",
       "      <td>36</td>\n",
       "      <td>36</td>\n",
       "      <td>36</td>\n",
       "    </tr>\n",
       "    <tr>\n",
       "      <th>...</th>\n",
       "      <td>...</td>\n",
       "      <td>...</td>\n",
       "      <td>...</td>\n",
       "      <td>...</td>\n",
       "      <td>...</td>\n",
       "      <td>...</td>\n",
       "      <td>...</td>\n",
       "    </tr>\n",
       "    <tr>\n",
       "      <th>2021-09-16</th>\n",
       "      <td>24</td>\n",
       "      <td>24</td>\n",
       "      <td>24</td>\n",
       "      <td>24</td>\n",
       "      <td>24</td>\n",
       "      <td>24</td>\n",
       "      <td>24</td>\n",
       "    </tr>\n",
       "    <tr>\n",
       "      <th>2021-09-17</th>\n",
       "      <td>23</td>\n",
       "      <td>23</td>\n",
       "      <td>23</td>\n",
       "      <td>23</td>\n",
       "      <td>23</td>\n",
       "      <td>23</td>\n",
       "      <td>23</td>\n",
       "    </tr>\n",
       "    <tr>\n",
       "      <th>2021-09-18</th>\n",
       "      <td>30</td>\n",
       "      <td>30</td>\n",
       "      <td>30</td>\n",
       "      <td>30</td>\n",
       "      <td>30</td>\n",
       "      <td>30</td>\n",
       "      <td>30</td>\n",
       "    </tr>\n",
       "    <tr>\n",
       "      <th>2021-09-19</th>\n",
       "      <td>21</td>\n",
       "      <td>21</td>\n",
       "      <td>21</td>\n",
       "      <td>21</td>\n",
       "      <td>21</td>\n",
       "      <td>21</td>\n",
       "      <td>21</td>\n",
       "    </tr>\n",
       "    <tr>\n",
       "      <th>2021-09-20</th>\n",
       "      <td>1</td>\n",
       "      <td>1</td>\n",
       "      <td>1</td>\n",
       "      <td>1</td>\n",
       "      <td>1</td>\n",
       "      <td>1</td>\n",
       "      <td>1</td>\n",
       "    </tr>\n",
       "  </tbody>\n",
       "</table>\n",
       "<p>1207 rows × 7 columns</p>\n",
       "</div>"
      ],
      "text/plain": [
       "            startdate  enddate  value  duration  start_hour  end_hour  \\\n",
       "date                                                                    \n",
       "2018-06-02         13       13     13        13          13        13   \n",
       "2018-06-03         32       32     32        32          32        32   \n",
       "2018-06-04         38       38     38        38          38        38   \n",
       "2018-06-05         32       32     32        32          32        32   \n",
       "2018-06-06         36       36     36        36          36        36   \n",
       "...               ...      ...    ...       ...         ...       ...   \n",
       "2021-09-16         24       24     24        24          24        24   \n",
       "2021-09-17         23       23     23        23          23        23   \n",
       "2021-09-18         30       30     30        30          30        30   \n",
       "2021-09-19         21       21     21        21          21        21   \n",
       "2021-09-20          1        1      1         1           1         1   \n",
       "\n",
       "            days_gap  \n",
       "date                  \n",
       "2018-06-02        13  \n",
       "2018-06-03        32  \n",
       "2018-06-04        38  \n",
       "2018-06-05        32  \n",
       "2018-06-06        36  \n",
       "...              ...  \n",
       "2021-09-16        24  \n",
       "2021-09-17        23  \n",
       "2021-09-18        30  \n",
       "2021-09-19        21  \n",
       "2021-09-20         1  \n",
       "\n",
       "[1207 rows x 7 columns]"
      ]
     },
     "execution_count": 82,
     "metadata": {},
     "output_type": "execute_result"
    }
   ],
   "source": [
    "df.groupby('date').count()"
   ]
  },
  {
   "cell_type": "code",
   "execution_count": 90,
   "metadata": {},
   "outputs": [
    {
     "name": "stdout",
     "output_type": "stream",
     "text": [
      "2018-06-02 2021-09-20\n"
     ]
    },
    {
     "data": {
      "text/plain": [
       "1207"
      ]
     },
     "execution_count": 90,
     "metadata": {},
     "output_type": "execute_result"
    }
   ],
   "source": [
    "min_date = min(df['date']).strftime('%Y-%m-%d')\n",
    "max_date = max(df['date']).strftime('%Y-%m-%d')\n",
    "print(min_date,max_date)\n",
    "#max_date\n",
    "date_range = pd.date_range(start=min_date,end=max_date)\n"
   ]
  },
  {
   "cell_type": "code",
   "execution_count": 37,
   "metadata": {},
   "outputs": [
    {
     "data": {
      "text/plain": [
       "3633"
      ]
     },
     "execution_count": 37,
     "metadata": {},
     "output_type": "execute_result"
    }
   ],
   "source": []
  },
  {
   "cell_type": "code",
   "execution_count": 31,
   "metadata": {},
   "outputs": [
    {
     "data": {
      "text/plain": [
       "<matplotlib.axes._subplots.AxesSubplot at 0x264b1988c40>"
      ]
     },
     "execution_count": 31,
     "metadata": {},
     "output_type": "execute_result"
    },
    {
     "data": {
      "image/png": "[encoded data removed]",
      "text/plain": [
       "<Figure size 432x288 with 1 Axes>"
      ]
     },
     "metadata": {
      "needs_background": "light"
     },
     "output_type": "display_data"
    }
   ],
   "source": []
  },
  {
   "cell_type": "code",
   "execution_count": null,
   "metadata": {},
   "outputs": [],
   "source": []
  }
 ],
 "metadata": {
  "kernelspec": {
   "display_name": "Python 3",
   "language": "python",
   "name": "python3"
  },
  "language_info": {
   "codemirror_mode": {
    "name": "ipython",
    "version": 3
   },
   "file_extension": ".py",
   "mimetype": "text/x-python",
   "name": "python",
   "nbconvert_exporter": "python",
   "pygments_lexer": "ipython3",
   "version": "3.8.3"
  }
 },
 "nbformat": 4,
 "nbformat_minor": 4
}
